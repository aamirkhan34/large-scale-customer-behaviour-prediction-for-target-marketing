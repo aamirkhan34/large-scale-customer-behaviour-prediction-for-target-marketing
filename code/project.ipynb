{
 "cells": [
  {
   "cell_type": "markdown",
   "metadata": {},
   "source": [
    "# Purchase prediction with dynamic pricing for behavioural consumer segments"
   ]
  },
  {
   "cell_type": "code",
   "execution_count": 1,
   "metadata": {},
   "outputs": [],
   "source": [
    "## Imports\n",
    "\n",
    "# Data cleaning and Preprocessing\n",
    "import pandas as pd\n",
    "from dask import dataframe\n",
    "\n",
    "# Machine Learning\n",
    "import sklearn\n",
    "import dask_ml\n",
    "\n",
    "# Visualisation\n",
    "import plotly\n",
    "import matplotlib.pyplot as plt"
   ]
  },
  {
   "cell_type": "markdown",
   "metadata": {},
   "source": [
    "## Reading Dataset"
   ]
  },
  {
   "cell_type": "code",
   "execution_count": 4,
   "metadata": {},
   "outputs": [
    {
     "data": {
      "text/html": [
       "<div>\n",
       "<style scoped>\n",
       "    .dataframe tbody tr th:only-of-type {\n",
       "        vertical-align: middle;\n",
       "    }\n",
       "\n",
       "    .dataframe tbody tr th {\n",
       "        vertical-align: top;\n",
       "    }\n",
       "\n",
       "    .dataframe thead th {\n",
       "        text-align: right;\n",
       "    }\n",
       "</style>\n",
       "<table border=\"1\" class=\"dataframe\">\n",
       "  <thead>\n",
       "    <tr style=\"text-align: right;\">\n",
       "      <th></th>\n",
       "      <th>Company Code</th>\n",
       "      <th>Order Number</th>\n",
       "      <th>Employee</th>\n",
       "      <th>Product</th>\n",
       "      <th>Product Category</th>\n",
       "      <th>Client</th>\n",
       "      <th>Client City</th>\n",
       "      <th>Sale Date Time</th>\n",
       "      <th>Product Cost</th>\n",
       "      <th>Discount Amount</th>\n",
       "      <th>Amount</th>\n",
       "      <th>Total</th>\n",
       "      <th>Form of payment</th>\n",
       "    </tr>\n",
       "  </thead>\n",
       "  <tbody>\n",
       "    <tr>\n",
       "      <th>0</th>\n",
       "      <td>39000</td>\n",
       "      <td>12</td>\n",
       "      <td>Stacy Day</td>\n",
       "      <td>Special Gasoline</td>\n",
       "      <td>Fuel</td>\n",
       "      <td>Customer not informed</td>\n",
       "      <td>No City</td>\n",
       "      <td>2017-03-31 04:10:00</td>\n",
       "      <td>3.050</td>\n",
       "      <td>0.0</td>\n",
       "      <td>5.642</td>\n",
       "      <td>20.02</td>\n",
       "      <td>Money</td>\n",
       "    </tr>\n",
       "    <tr>\n",
       "      <th>1</th>\n",
       "      <td>39000</td>\n",
       "      <td>21</td>\n",
       "      <td>Olive Stevenson</td>\n",
       "      <td>Special Diesel</td>\n",
       "      <td>Fuel</td>\n",
       "      <td>Customer not informed</td>\n",
       "      <td>No City</td>\n",
       "      <td>2017-03-31 04:13:00</td>\n",
       "      <td>2.510</td>\n",
       "      <td>0.0</td>\n",
       "      <td>125.045</td>\n",
       "      <td>350.00</td>\n",
       "      <td>Debit Card</td>\n",
       "    </tr>\n",
       "    <tr>\n",
       "      <th>2</th>\n",
       "      <td>39000</td>\n",
       "      <td>38</td>\n",
       "      <td>Stacy Day</td>\n",
       "      <td>Special Diesel</td>\n",
       "      <td>Fuel</td>\n",
       "      <td>Customer not informed</td>\n",
       "      <td>No City</td>\n",
       "      <td>2017-03-31 04:25:00</td>\n",
       "      <td>2.510</td>\n",
       "      <td>0.0</td>\n",
       "      <td>35.699</td>\n",
       "      <td>99.92</td>\n",
       "      <td>Money</td>\n",
       "    </tr>\n",
       "    <tr>\n",
       "      <th>3</th>\n",
       "      <td>39000</td>\n",
       "      <td>39</td>\n",
       "      <td>Olive Stevenson</td>\n",
       "      <td>Lubricant 1108</td>\n",
       "      <td>Lubricant</td>\n",
       "      <td>Customer not informed</td>\n",
       "      <td>No City</td>\n",
       "      <td>2017-03-31 04:26:00</td>\n",
       "      <td>7.409</td>\n",
       "      <td>0.0</td>\n",
       "      <td>1.000</td>\n",
       "      <td>13.00</td>\n",
       "      <td>Money</td>\n",
       "    </tr>\n",
       "    <tr>\n",
       "      <th>4</th>\n",
       "      <td>39000</td>\n",
       "      <td>39</td>\n",
       "      <td>Olive Stevenson</td>\n",
       "      <td>Diesel Auto Clean</td>\n",
       "      <td>Fuel</td>\n",
       "      <td>Customer not informed</td>\n",
       "      <td>No City</td>\n",
       "      <td>2017-03-31 04:26:00</td>\n",
       "      <td>2.560</td>\n",
       "      <td>0.0</td>\n",
       "      <td>42.162</td>\n",
       "      <td>120.96</td>\n",
       "      <td>Money</td>\n",
       "    </tr>\n",
       "  </tbody>\n",
       "</table>\n",
       "</div>"
      ],
      "text/plain": [
       "   Company Code  Order Number         Employee            Product  \\\n",
       "0         39000            12        Stacy Day   Special Gasoline   \n",
       "1         39000            21  Olive Stevenson     Special Diesel   \n",
       "2         39000            38        Stacy Day     Special Diesel   \n",
       "3         39000            39  Olive Stevenson     Lubricant 1108   \n",
       "4         39000            39  Olive Stevenson  Diesel Auto Clean   \n",
       "\n",
       "  Product Category                 Client Client City       Sale Date Time  \\\n",
       "0             Fuel  Customer not informed     No City  2017-03-31 04:10:00   \n",
       "1             Fuel  Customer not informed     No City  2017-03-31 04:13:00   \n",
       "2             Fuel  Customer not informed     No City  2017-03-31 04:25:00   \n",
       "3        Lubricant  Customer not informed     No City  2017-03-31 04:26:00   \n",
       "4             Fuel  Customer not informed     No City  2017-03-31 04:26:00   \n",
       "\n",
       "   Product Cost  Discount Amount   Amount   Total Form of payment  \n",
       "0         3.050              0.0    5.642   20.02           Money  \n",
       "1         2.510              0.0  125.045  350.00      Debit Card  \n",
       "2         2.510              0.0   35.699   99.92           Money  \n",
       "3         7.409              0.0    1.000   13.00           Money  \n",
       "4         2.560              0.0   42.162  120.96           Money  "
      ]
     },
     "execution_count": 4,
     "metadata": {},
     "output_type": "execute_result"
    }
   ],
   "source": [
    "df = dataframe.read_csv('dataset/brazil_dataset/Sales Report.csv', delimiter=\";\")\n",
    "df.head()"
   ]
  },
  {
   "cell_type": "markdown",
   "metadata": {},
   "source": [
    "## Data Cleaning"
   ]
  },
  {
   "cell_type": "code",
   "execution_count": 6,
   "metadata": {},
   "outputs": [
    {
     "name": "stdout",
     "output_type": "stream",
     "text": [
      "<class 'dask.dataframe.core.DataFrame'>\n",
      "Int64Index: 26951165 entries, 0 to 283451\n",
      "Data columns (total 13 columns):\n",
      " #   Column            Non-Null Count  Dtype\n",
      "---  ------            --------------  -----\n",
      " 0   Company Code      26951165 non-null      int64\n",
      " 1   Order Number      26951165 non-null      int64\n",
      " 2   Employee          26951165 non-null      object\n",
      " 3   Product           26951165 non-null      object\n",
      " 4   Product Category  26951165 non-null      object\n",
      " 5   Client            26951165 non-null      object\n",
      " 6   Client City       26951165 non-null      object\n",
      " 7   Sale Date Time    26951165 non-null      object\n",
      " 8   Product Cost      26951165 non-null      float64\n",
      " 9   Discount Amount   26951165 non-null      float64\n",
      "10   Amount            26951165 non-null      float64\n",
      "11   Total             26951165 non-null      float64\n",
      "12   Form of payment   26951165 non-null      object\n",
      "dtypes: object(7), float64(4), int64(2)\n",
      "memory usage: 2.6 GB\n"
     ]
    }
   ],
   "source": [
    "# https://docs.dask.org/en/latest/dataframe-api.html\n",
    "df.info(verbose=True, memory_usage=True)"
   ]
  },
  {
   "cell_type": "code",
   "execution_count": 15,
   "metadata": {},
   "outputs": [
    {
     "name": "stdout",
     "output_type": "stream",
     "text": [
      "<class 'dask.dataframe.core.DataFrame'>\n",
      "Int64Index: 2456699 entries, 0 to 283448\n",
      "Data columns (total 13 columns):\n",
      " #   Column            Non-Null Count  Dtype\n",
      "---  ------            --------------  -----\n",
      " 0   Company Code      2456699 non-null      int64\n",
      " 1   Order Number      2456699 non-null      int64\n",
      " 2   Employee          2456699 non-null      object\n",
      " 3   Product           2456699 non-null      object\n",
      " 4   Product Category  2456699 non-null      object\n",
      " 5   Client            2456699 non-null      object\n",
      " 6   Client City       2456699 non-null      object\n",
      " 7   Sale Date Time    2456699 non-null      object\n",
      " 8   Product Cost      2456699 non-null      float64\n",
      " 9   Discount Amount   2456699 non-null      float64\n",
      "10   Amount            2456699 non-null      float64\n",
      "11   Total             2456699 non-null      float64\n",
      "12   Form of payment   2456699 non-null      object\n",
      "dtypes: object(7), float64(4), int64(2)\n",
      "memory usage: 262.4 MB\n"
     ]
    }
   ],
   "source": [
    "# Taking company 39000 since this framework is supposed to be used by companies on their own data\n",
    "df = df[df[\"Company Code\"] == 39000]\n",
    "df.info(verbose=True, memory_usage=True)"
   ]
  },
  {
   "cell_type": "code",
   "execution_count": 17,
   "metadata": {},
   "outputs": [
    {
     "data": {
      "text/html": [
       "<div>\n",
       "<style scoped>\n",
       "    .dataframe tbody tr th:only-of-type {\n",
       "        vertical-align: middle;\n",
       "    }\n",
       "\n",
       "    .dataframe tbody tr th {\n",
       "        vertical-align: top;\n",
       "    }\n",
       "\n",
       "    .dataframe thead th {\n",
       "        text-align: right;\n",
       "    }\n",
       "</style>\n",
       "<table border=\"1\" class=\"dataframe\">\n",
       "  <thead>\n",
       "    <tr style=\"text-align: right;\">\n",
       "      <th></th>\n",
       "      <th>Order Number</th>\n",
       "      <th>Product</th>\n",
       "      <th>Product Category</th>\n",
       "      <th>Client</th>\n",
       "      <th>Client City</th>\n",
       "      <th>Sale Date Time</th>\n",
       "      <th>Product Cost</th>\n",
       "      <th>Discount Amount</th>\n",
       "      <th>Amount</th>\n",
       "      <th>Total</th>\n",
       "      <th>Form of payment</th>\n",
       "    </tr>\n",
       "  </thead>\n",
       "  <tbody>\n",
       "    <tr>\n",
       "      <th>0</th>\n",
       "      <td>12</td>\n",
       "      <td>Special Gasoline</td>\n",
       "      <td>Fuel</td>\n",
       "      <td>Customer not informed</td>\n",
       "      <td>No City</td>\n",
       "      <td>2017-03-31 04:10:00</td>\n",
       "      <td>3.050</td>\n",
       "      <td>0.0</td>\n",
       "      <td>5.642</td>\n",
       "      <td>20.02</td>\n",
       "      <td>Money</td>\n",
       "    </tr>\n",
       "    <tr>\n",
       "      <th>1</th>\n",
       "      <td>21</td>\n",
       "      <td>Special Diesel</td>\n",
       "      <td>Fuel</td>\n",
       "      <td>Customer not informed</td>\n",
       "      <td>No City</td>\n",
       "      <td>2017-03-31 04:13:00</td>\n",
       "      <td>2.510</td>\n",
       "      <td>0.0</td>\n",
       "      <td>125.045</td>\n",
       "      <td>350.00</td>\n",
       "      <td>Debit Card</td>\n",
       "    </tr>\n",
       "    <tr>\n",
       "      <th>2</th>\n",
       "      <td>38</td>\n",
       "      <td>Special Diesel</td>\n",
       "      <td>Fuel</td>\n",
       "      <td>Customer not informed</td>\n",
       "      <td>No City</td>\n",
       "      <td>2017-03-31 04:25:00</td>\n",
       "      <td>2.510</td>\n",
       "      <td>0.0</td>\n",
       "      <td>35.699</td>\n",
       "      <td>99.92</td>\n",
       "      <td>Money</td>\n",
       "    </tr>\n",
       "    <tr>\n",
       "      <th>3</th>\n",
       "      <td>39</td>\n",
       "      <td>Lubricant 1108</td>\n",
       "      <td>Lubricant</td>\n",
       "      <td>Customer not informed</td>\n",
       "      <td>No City</td>\n",
       "      <td>2017-03-31 04:26:00</td>\n",
       "      <td>7.409</td>\n",
       "      <td>0.0</td>\n",
       "      <td>1.000</td>\n",
       "      <td>13.00</td>\n",
       "      <td>Money</td>\n",
       "    </tr>\n",
       "    <tr>\n",
       "      <th>4</th>\n",
       "      <td>39</td>\n",
       "      <td>Diesel Auto Clean</td>\n",
       "      <td>Fuel</td>\n",
       "      <td>Customer not informed</td>\n",
       "      <td>No City</td>\n",
       "      <td>2017-03-31 04:26:00</td>\n",
       "      <td>2.560</td>\n",
       "      <td>0.0</td>\n",
       "      <td>42.162</td>\n",
       "      <td>120.96</td>\n",
       "      <td>Money</td>\n",
       "    </tr>\n",
       "  </tbody>\n",
       "</table>\n",
       "</div>"
      ],
      "text/plain": [
       "   Order Number            Product Product Category                 Client  \\\n",
       "0            12   Special Gasoline             Fuel  Customer not informed   \n",
       "1            21     Special Diesel             Fuel  Customer not informed   \n",
       "2            38     Special Diesel             Fuel  Customer not informed   \n",
       "3            39     Lubricant 1108        Lubricant  Customer not informed   \n",
       "4            39  Diesel Auto Clean             Fuel  Customer not informed   \n",
       "\n",
       "  Client City       Sale Date Time  Product Cost  Discount Amount   Amount  \\\n",
       "0     No City  2017-03-31 04:10:00         3.050              0.0    5.642   \n",
       "1     No City  2017-03-31 04:13:00         2.510              0.0  125.045   \n",
       "2     No City  2017-03-31 04:25:00         2.510              0.0   35.699   \n",
       "3     No City  2017-03-31 04:26:00         7.409              0.0    1.000   \n",
       "4     No City  2017-03-31 04:26:00         2.560              0.0   42.162   \n",
       "\n",
       "    Total Form of payment  \n",
       "0   20.02           Money  \n",
       "1  350.00      Debit Card  \n",
       "2   99.92           Money  \n",
       "3   13.00           Money  \n",
       "4  120.96           Money  "
      ]
     },
     "execution_count": 17,
     "metadata": {},
     "output_type": "execute_result"
    }
   ],
   "source": [
    "# Removing unnecessay columns\n",
    "df = df.drop([\"Company Code\", \"Employee\"], axis=1)\n",
    "df.head()"
   ]
  },
  {
   "cell_type": "code",
   "execution_count": 18,
   "metadata": {},
   "outputs": [
    {
     "data": {
      "text/plain": [
       "1876"
      ]
     },
     "execution_count": 18,
     "metadata": {},
     "output_type": "execute_result"
    }
   ],
   "source": [
    "len(df[\"Client\"].unique().compute())"
   ]
  },
  {
   "cell_type": "code",
   "execution_count": null,
   "metadata": {},
   "outputs": [],
   "source": []
  },
  {
   "cell_type": "markdown",
   "metadata": {},
   "source": [
    "## EDA and Descriptive Analytics"
   ]
  },
  {
   "cell_type": "code",
   "execution_count": null,
   "metadata": {},
   "outputs": [],
   "source": []
  },
  {
   "cell_type": "markdown",
   "metadata": {},
   "source": [
    "## Clustering"
   ]
  },
  {
   "cell_type": "markdown",
   "metadata": {},
   "source": [
    "### Feature Engineering"
   ]
  },
  {
   "cell_type": "code",
   "execution_count": null,
   "metadata": {},
   "outputs": [],
   "source": []
  },
  {
   "cell_type": "markdown",
   "metadata": {},
   "source": [
    "### K-Means"
   ]
  },
  {
   "cell_type": "code",
   "execution_count": null,
   "metadata": {},
   "outputs": [],
   "source": []
  },
  {
   "cell_type": "markdown",
   "metadata": {},
   "source": [
    "### DBSCAN (Maybe)"
   ]
  },
  {
   "cell_type": "code",
   "execution_count": null,
   "metadata": {},
   "outputs": [],
   "source": []
  },
  {
   "cell_type": "markdown",
   "metadata": {},
   "source": [
    "## Classification"
   ]
  },
  {
   "cell_type": "markdown",
   "metadata": {},
   "source": [
    "### Feature Engineering"
   ]
  },
  {
   "cell_type": "code",
   "execution_count": null,
   "metadata": {},
   "outputs": [],
   "source": []
  },
  {
   "cell_type": "markdown",
   "metadata": {},
   "source": [
    "### Hyperparameter Optimization"
   ]
  },
  {
   "cell_type": "code",
   "execution_count": null,
   "metadata": {},
   "outputs": [],
   "source": []
  },
  {
   "cell_type": "markdown",
   "metadata": {},
   "source": [
    "### Model Development"
   ]
  },
  {
   "cell_type": "code",
   "execution_count": null,
   "metadata": {},
   "outputs": [],
   "source": []
  },
  {
   "cell_type": "markdown",
   "metadata": {},
   "source": [
    "## Evaluation"
   ]
  },
  {
   "cell_type": "code",
   "execution_count": null,
   "metadata": {},
   "outputs": [],
   "source": []
  },
  {
   "cell_type": "code",
   "execution_count": null,
   "metadata": {},
   "outputs": [],
   "source": []
  }
 ],
 "metadata": {
  "kernelspec": {
   "display_name": "mlbd-project",
   "language": "python",
   "name": "mlbd-project"
  },
  "language_info": {
   "codemirror_mode": {
    "name": "ipython",
    "version": 3
   },
   "file_extension": ".py",
   "mimetype": "text/x-python",
   "name": "python",
   "nbconvert_exporter": "python",
   "pygments_lexer": "ipython3",
   "version": "3.8.5"
  }
 },
 "nbformat": 4,
 "nbformat_minor": 4
}
